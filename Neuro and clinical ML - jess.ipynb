{
 "cells": [
  {
   "cell_type": "code",
   "execution_count": 3,
   "id": "4fa82304-467c-4f6b-985e-842162e809da",
   "metadata": {
    "trusted": true
   },
   "outputs": [
    {
     "name": "stdout",
     "output_type": "stream",
     "text": [
      "(500, 91)\n",
      "Index(['ID', 'Sex', 'Age at MRI', 'WHO CNS Grade',\n",
      "       'Final pathologic diagnosis (WHO 2021)', 'MGMT status', 'MGMT index',\n",
      "       '1p/19q', 'IDH', '1-dead 0-alive', 'OS', 'EOR',\n",
      "       'Biopsy prior to imaging', 'BraTS21 ID', 'BraTS21 Segmentation Cohort',\n",
      "       'BraTS21 MGMT Cohort'],\n",
      "      dtype='object')\n",
      "updated clinical column list Index(['ID', 'Sex', 'Age at MRI', 'WHO CNS Grade', 'MGMT status', '1p/19q',\n",
      "       'IDH'],\n",
      "      dtype='object')\n"
     ]
    }
   ],
   "source": [
    "import pandas as pd\n",
    "import numpy as np\n",
    "from sklearn.model_selection import train_test_split, RepeatedStratifiedKFold, cross_val_score\n",
    "from sklearn.ensemble import RandomForestClassifier\n",
    "from sklearn.metrics import classification_report, confusion_matrix\n",
    "from sklearn.preprocessing import StandardScaler\n",
    "from sklearn.pipeline import Pipeline\n",
    "from sklearn.utils.class_weight import compute_class_weight\n",
    "\n",
    "# Load your data (assume already loaded as df)\n",
    "\n",
    "#neuroimaging data \n",
    "df = pd.read_csv('patient_level_comprehensive_features_fixed.csv')\n",
    "print(df.shape)\n",
    "\n",
    "#shell data is stored in boundary_shell_, deleting shell_ and all clinical data \n",
    "\n",
    "df = df.drop(columns=['who_grade', 'age_at_mri', 'sex', 'overall_survival_days', 'mgmt_status', \n",
    "                      'mgmt_index', '1p19q', 'idh_status', 'eor',\n",
    "                      'shell_0_fa_mean', 'shell_0_fa_std', 'shell_0_fa_median', 'shell_0_voxel_count',\n",
    "                      'shell_1_fa_mean', 'shell_1_fa_std','shell_1_fa_median','shell_1_voxel_count', \n",
    "                      'shell_2_fa_mean','shell_2_fa_std','shell_2_fa_median','shell_2_voxel_count',\n",
    "                      'shell_3_fa_mean','shell_3_fa_std','shell_3_fa_median','shell_3_voxel_count', \n",
    "                      'shell_0_gradient_mean', 'shell_0_gradient_std','shell_1_gradient_mean','shell_1_gradient_std',\n",
    "                      'shell_2_gradient_mean','shell_2_gradient_std','shell_3_gradient_mean','shell_3_gradient_std'])\n",
    "\n",
    "\n",
    "df.rename(columns={'patient_id': 'ID'}, inplace=True)\n",
    "\n",
    "#cleaned clinical data upload\n",
    "\n",
    "\n",
    "df_clinical = pd.read_csv('PDGM/UCSF-PDGM-metadata_v5_cleaned.csv')\n",
    "#clinical analysis will include sex, MGMT status, IDH status, 1p/19q\n",
    " \n",
    "print(df_clinical.columns)\n",
    "#dropping other columns\n",
    "df_clinical = df_clinical.drop(columns=[\n",
    "       'Final pathologic diagnosis (WHO 2021)', 'MGMT index',\n",
    "       '1-dead 0-alive', 'OS', 'EOR',\n",
    "       'Biopsy prior to imaging', 'BraTS21 ID', 'BraTS21 Segmentation Cohort',\n",
    "       'BraTS21 MGMT Cohort'])\n",
    "\n",
    "print('updated clinical column list', df_clinical.columns)\n",
    "\n",
    "\n",
    "                               \n",
    "\n",
    "    \n",
    "\n"
   ]
  },
  {
   "cell_type": "code",
   "execution_count": 4,
   "id": "f585e283-8a14-4656-aa81-6f4d7477d5e5",
   "metadata": {
    "trusted": true
   },
   "outputs": [
    {
     "name": "stdout",
     "output_type": "stream",
     "text": [
      "Merged df shape is  (500, 64)\n",
      "Unique values in column 'WHO CNS Grade': [4 2]\n"
     ]
    }
   ],
   "source": [
    "#merge dfs by ID and classify grade 2 and 3 as the same\n",
    "\n",
    "df_merged = pd.merge(df, df_clinical, on ='ID', how='inner')\n",
    "\n",
    "\n",
    "df_merged['WHO CNS Grade'] = df_merged['WHO CNS Grade'].replace(3, 2)\n",
    "print('Merged df shape is ', df_merged.shape)\n",
    "\n",
    "column_grade = ['WHO CNS Grade']\n",
    "\n",
    "for column in column_grade:\n",
    "    unique_values = df_merged[column].unique()\n",
    "    print(f\"Unique values in column '{column}': {unique_values}\")"
   ]
  },
  {
   "cell_type": "code",
   "execution_count": null,
   "id": "8fa46a17-62f5-428d-b70d-a4b03bc3db4d",
   "metadata": {
    "trusted": true
   },
   "outputs": [],
   "source": []
  },
  {
   "cell_type": "code",
   "execution_count": 5,
   "id": "80e526fa-979b-405d-b901-a7094736d87c",
   "metadata": {
    "trusted": true
   },
   "outputs": [
    {
     "name": "stdout",
     "output_type": "stream",
     "text": [
      "Unique values in column 'Sex': ['M' 'F']\n",
      "Unique values in column 'MGMT status': ['negative' 'unknown' 'positive']\n",
      "Unique values in column '1p/19q': ['unknown' 'intact' 'co-deletion']\n",
      "Unique values in column 'IDH': ['wildtype' 'mutated']\n",
      "\n",
      "One-Hot Encoded DataFrame (Pandas):\n",
      "                ID   fa_mean    fa_std  fa_min    fa_max  fa_median     fa_p5  \\\n",
      "0    UCSF-PDGM-004  0.253438  0.163584     0.0  1.192218   0.212847  0.059179   \n",
      "1    UCSF-PDGM-005  0.225728  0.150805     0.0  1.173550   0.180397  0.058431   \n",
      "2    UCSF-PDGM-007  0.245633  0.146553     0.0  1.214064   0.209004  0.073694   \n",
      "3    UCSF-PDGM-008  0.270115  0.155586     0.0  1.138740   0.228412  0.086311   \n",
      "4    UCSF-PDGM-009  0.200340  0.136351     0.0  1.124572   0.158248  0.054843   \n",
      "..             ...       ...       ...     ...       ...        ...       ...   \n",
      "495  UCSF-PDGM-536  0.256128  0.145090     0.0  1.187934   0.221200  0.087824   \n",
      "496  UCSF-PDGM-537  0.253504  0.164926     0.0  1.188299   0.207506  0.065204   \n",
      "497  UCSF-PDGM-538  0.263215  0.164676     0.0  1.207332   0.215951  0.075165   \n",
      "498  UCSF-PDGM-539  0.244807  0.163983     0.0  1.186552   0.200918  0.057449   \n",
      "499  UCSF-PDGM-540  0.242826  0.170698     0.0  1.198951   0.187723  0.060611   \n",
      "\n",
      "       fa_p10    fa_p25    fa_p75  ...  tumor_center_z_norm  edge_density  \\\n",
      "0    0.080700  0.128491  0.347087  ...             0.674613      0.050003   \n",
      "1    0.074619  0.109592  0.312911  ...             0.539962      0.050047   \n",
      "2    0.093942  0.137551  0.324140  ...             0.564409      0.050018   \n",
      "3    0.108485  0.153927  0.357209  ...             0.579834      0.050043   \n",
      "4    0.069892  0.101878  0.265755  ...             0.714980      0.050020   \n",
      "..        ...       ...       ...  ...                  ...           ...   \n",
      "495  0.107800  0.149437  0.332045  ...             0.507633      0.050003   \n",
      "496  0.083100  0.126581  0.348992  ...             0.507277      0.050037   \n",
      "497  0.096222  0.139644  0.355761  ...             0.477519      0.050020   \n",
      "498  0.074523  0.117777  0.339698  ...             0.410869      0.050044   \n",
      "499  0.078210  0.115605  0.331813  ...             0.762813      0.050020   \n",
      "\n",
      "     Age at MRI  WHO CNS Grade  Sex_M  MGMT status_positive  \\\n",
      "0            66              4   True                 False   \n",
      "1            80              4  False                 False   \n",
      "2            70              4   True                 False   \n",
      "3            70              4   True                 False   \n",
      "4            68              4  False                 False   \n",
      "..          ...            ...    ...                   ...   \n",
      "495          58              4  False                  True   \n",
      "496          64              4   True                  True   \n",
      "497          41              4  False                 False   \n",
      "498          72              4   True                  True   \n",
      "499          70              2  False                  True   \n",
      "\n",
      "     MGMT status_unknown  1p/19q_intact  1p/19q_unknown  IDH_wildtype  \n",
      "0                  False          False            True          True  \n",
      "1                   True          False            True          True  \n",
      "2                   True          False            True          True  \n",
      "3                  False          False            True          True  \n",
      "4                  False          False            True          True  \n",
      "..                   ...            ...             ...           ...  \n",
      "495                False           True           False          True  \n",
      "496                False           True           False          True  \n",
      "497                False           True           False          True  \n",
      "498                False           True           False          True  \n",
      "499                False          False           False         False  \n",
      "\n",
      "[500 rows x 66 columns]\n"
     ]
    }
   ],
   "source": [
    "#data pre-prcessing: need to convert categorical data to numbers using one-hot numeric arrays\n",
    "columns_by_index = ['Sex', 'MGMT status', '1p/19q','IDH']\n",
    "\n",
    "for column in columns_by_index:\n",
    "    unique_values = df_merged[column].unique()\n",
    "    print(f\"Unique values in column '{column}': {unique_values}\")\n",
    "\n",
    "#all categorical data being encoded, unknowns included\n",
    "df_encoded = pd.get_dummies(df_merged, columns=['Sex', 'MGMT status', '1p/19q','IDH'], drop_first=True)\n",
    "\n",
    "print(\"\\nOne-Hot Encoded DataFrame (Pandas):\")\n",
    "print(df_encoded)\n",
    "    \n",
    "\n",
    "\n",
    "#testing data w/out clinical features \n",
    "#indices_to_drop = ['Sex', 'MGMT status', '1p/19q','IDH']\n",
    "#columns_by_index = df.columns[indices_to_drop].tolist()\n",
    "#df_dropped = df.drop(columns=columns_by_index)\n",
    "\n",
    "\n",
    "#df = df.drop(columns=[indices_to_drop])\n",
    "#print(df_dropped)\n",
    "\n"
   ]
  },
  {
   "cell_type": "code",
   "execution_count": 6,
   "id": "4bbe8ebb-9151-4d77-b579-76c5b1b23b56",
   "metadata": {
    "trusted": true
   },
   "outputs": [
    {
     "name": "stdout",
     "output_type": "stream",
     "text": [
      "0 NA total\n",
      "Number of NAs is now : 0\n"
     ]
    }
   ],
   "source": [
    "#replacing NAs and unknowns with 0s, change before submitting\n",
    "\n",
    "\n",
    "missing_counts = df_encoded.isna().sum()\n",
    "pd.options.display.max_rows = 400\n",
    "#print(missing_counts,'NAs')\n",
    "print(sum(missing_counts), 'NA total') #note that survival days col has missing value-what to do with that? \n",
    "\n",
    "\n",
    "df_filled = df_encoded.fillna(0)\n",
    "print('Number of NAs is now :', sum(df_filled.isna().sum()>0)) #delete the one person \n",
    "#delete survival data\n",
    "\n",
    "#confirm no NAs \n",
    "#print(sum(df_filled.isna().sum()>0))\n",
    "\n",
    "\n",
    "\n",
    "\n",
    "\n"
   ]
  },
  {
   "cell_type": "code",
   "execution_count": 7,
   "id": "fefcd156-2e54-4ad3-8f89-93c9d31b69c7",
   "metadata": {
    "trusted": true
   },
   "outputs": [
    {
     "name": "stdout",
     "output_type": "stream",
     "text": [
      "Count of value unknown in the entire DataFrame: 0\n"
     ]
    }
   ],
   "source": [
    "#Check unknowns in dataset\n",
    "\n",
    "\n",
    "# Flatten the DataFrame into a single Series\n",
    "all_values = df_filled.stack()\n",
    "count_unknowns = (all_values == 'unknown').sum()\n",
    "print(f\"Count of value unknown in the entire DataFrame: {count_unknowns}\")\n",
    "\n",
    "\n",
    "\n",
    "\n",
    "#print(df_clean)\n"
   ]
  },
  {
   "cell_type": "code",
   "execution_count": 26,
   "id": "a3d71e8c-91b9-4aba-af31-b5d2065f2463",
   "metadata": {
    "trusted": true
   },
   "outputs": [
    {
     "name": "stdout",
     "output_type": "stream",
     "text": [
      "                ID   fa_mean    fa_std  fa_min    fa_max  fa_median     fa_p5  \\\n",
      "0    UCSF-PDGM-004  0.253438  0.163584     0.0  1.192218   0.212847  0.059179   \n",
      "1    UCSF-PDGM-005  0.225728  0.150805     0.0  1.173550   0.180397  0.058431   \n",
      "2    UCSF-PDGM-007  0.245633  0.146553     0.0  1.214064   0.209004  0.073694   \n",
      "3    UCSF-PDGM-008  0.270115  0.155586     0.0  1.138740   0.228412  0.086311   \n",
      "4    UCSF-PDGM-009  0.200340  0.136351     0.0  1.124572   0.158248  0.054843   \n",
      "..             ...       ...       ...     ...       ...        ...       ...   \n",
      "495  UCSF-PDGM-536  0.256128  0.145090     0.0  1.187934   0.221200  0.087824   \n",
      "496  UCSF-PDGM-537  0.253504  0.164926     0.0  1.188299   0.207506  0.065204   \n",
      "497  UCSF-PDGM-538  0.263215  0.164676     0.0  1.207332   0.215951  0.075165   \n",
      "498  UCSF-PDGM-539  0.244807  0.163983     0.0  1.186552   0.200918  0.057449   \n",
      "499  UCSF-PDGM-540  0.242826  0.170698     0.0  1.198951   0.187723  0.060611   \n",
      "\n",
      "       fa_p10    fa_p25    fa_p75  ...  tumor_center_y_norm  \\\n",
      "0    0.080700  0.128491  0.347087  ...             0.642176   \n",
      "1    0.074619  0.109592  0.312911  ...             0.548260   \n",
      "2    0.093942  0.137551  0.324140  ...             0.506383   \n",
      "3    0.108485  0.153927  0.357209  ...             0.594474   \n",
      "4    0.069892  0.101878  0.265755  ...             0.413665   \n",
      "..        ...       ...       ...  ...                  ...   \n",
      "495  0.107800  0.149437  0.332045  ...             0.583365   \n",
      "496  0.083100  0.126581  0.348992  ...             0.741794   \n",
      "497  0.096222  0.139644  0.355761  ...             0.614513   \n",
      "498  0.074523  0.117777  0.339698  ...             0.534242   \n",
      "499  0.078210  0.115605  0.331813  ...             0.390622   \n",
      "\n",
      "     tumor_center_z_norm  edge_density  Age at MRI  Sex_M  \\\n",
      "0               0.674613      0.050003          66   True   \n",
      "1               0.539962      0.050047          80  False   \n",
      "2               0.564409      0.050018          70   True   \n",
      "3               0.579834      0.050043          70   True   \n",
      "4               0.714980      0.050020          68  False   \n",
      "..                   ...           ...         ...    ...   \n",
      "495             0.507633      0.050003          58  False   \n",
      "496             0.507277      0.050037          64   True   \n",
      "497             0.477519      0.050020          41  False   \n",
      "498             0.410869      0.050044          72   True   \n",
      "499             0.762813      0.050020          70  False   \n",
      "\n",
      "     MGMT status_positive  MGMT status_unknown  1p/19q_intact  1p/19q_unknown  \\\n",
      "0                   False                False          False            True   \n",
      "1                   False                 True          False            True   \n",
      "2                   False                 True          False            True   \n",
      "3                   False                False          False            True   \n",
      "4                   False                False          False            True   \n",
      "..                    ...                  ...            ...             ...   \n",
      "495                  True                False           True           False   \n",
      "496                  True                False           True           False   \n",
      "497                 False                False           True           False   \n",
      "498                  True                False           True           False   \n",
      "499                  True                False          False           False   \n",
      "\n",
      "     IDH_wildtype  \n",
      "0            True  \n",
      "1            True  \n",
      "2            True  \n",
      "3            True  \n",
      "4            True  \n",
      "..            ...  \n",
      "495          True  \n",
      "496          True  \n",
      "497          True  \n",
      "498          True  \n",
      "499         False  \n",
      "\n",
      "[500 rows x 65 columns]\n"
     ]
    }
   ],
   "source": [
    "\n"
   ]
  },
  {
   "cell_type": "code",
   "execution_count": 8,
   "id": "58b182f1-d688-4757-976b-4aa67ff938bf",
   "metadata": {
    "trusted": true
   },
   "outputs": [
    {
     "name": "stdout",
     "output_type": "stream",
     "text": [
      "(400,) in train\n",
      "(399, 66)\n",
      "(101,) in test\n",
      "(101, 66)\n"
     ]
    }
   ],
   "source": [
    "# Split into train/test with stratification to maintain class distribution\n",
    "\n",
    "\n",
    "train = pd.read_csv('PDGM/train_metadata.csv')['ID']\n",
    "print(train.shape, 'in train')\n",
    "\n",
    "\n",
    "\n",
    "#df_train= train.merge(df_filled,how='inner', )\n",
    "#print(train)\n",
    "df_train = df_filled[df_filled['ID'].isin(train.tolist())]\n",
    "#print(df_train)\n",
    "print(df_train.shape)\n",
    "\n",
    "\n",
    "\n",
    "\n",
    "\n",
    "\n",
    "test=  pd.read_csv('PDGM/test_metadata.csv')['ID']\n",
    "print(test.shape, 'in test')\n",
    "df_test = df_filled[df_filled['ID'].isin(test.tolist())]\n",
    "\n",
    "\n",
    "\n",
    "\n",
    "print(df_test.shape)\n",
    "\n",
    "\n",
    "\n"
   ]
  },
  {
   "cell_type": "code",
   "execution_count": 9,
   "id": "c691ef9b-3436-45de-b84d-f033addedf39",
   "metadata": {
    "trusted": true
   },
   "outputs": [
    {
     "name": "stdout",
     "output_type": "stream",
     "text": [
      "X_train (399, 64)\n",
      "X_test (101, 64)\n",
      "y_train (399,)\n",
      "y_test (101,)\n"
     ]
    }
   ],
   "source": [
    "\n",
    "X_train = df_train.drop(columns=['WHO CNS Grade','ID'])\n",
    "#print(X_train)\n",
    "X_test= df_test.drop(columns=['WHO CNS Grade','ID'])\n",
    "y_train= df_train['WHO CNS Grade']\n",
    "\n",
    "y_test= df_test['WHO CNS Grade']\n",
    "#X_train, X_test, y_train, y_test = train_test_split(\n",
    "#X, y, test_size=0.2, stratify=y, random_state=42)\n",
    "print('X_train', X_train.shape)\n",
    "print('X_test', X_test.shape)\n",
    "print('y_train', y_train.shape)\n",
    "print('y_test', y_test.shape)\n",
    "\n",
    "\n",
    "\n",
    "\n"
   ]
  },
  {
   "cell_type": "code",
   "execution_count": 10,
   "id": "11781ce5-dd6f-4d43-b804-dcbbbd3c2e59",
   "metadata": {
    "trusted": true
   },
   "outputs": [
    {
     "name": "stdout",
     "output_type": "stream",
     "text": [
      "[2.52531646 0.6234375 ]\n",
      "WHO CNS Grade\n",
      "4    0.802005\n",
      "2    0.197995\n",
      "Name: proportion, dtype: float64\n"
     ]
    }
   ],
   "source": [
    "# Compute class weights to address imbalance\n",
    "classes = np.unique(y_train)\n",
    "weights = compute_class_weight(class_weight='balanced', classes=classes, y=y_train)\n",
    "print(weights)\n",
    "class_weight_dict = dict(zip(classes, weights))\n",
    "\n",
    "\n",
    "\n"
   ]
  },
  {
   "cell_type": "code",
   "execution_count": 11,
   "id": "4f0c758c-1dd2-4c90-9192-b8eabade1b29",
   "metadata": {
    "trusted": true
   },
   "outputs": [],
   "source": [
    "# Define the pipeline (scaling + random forest)\n",
    "pipeline = Pipeline([\n",
    "('scaler', StandardScaler()), # optional depending on feature types\n",
    "('rf', RandomForestClassifier(\n",
    "n_estimators=100,    #if do more, could stabilize??\n",
    "class_weight=class_weight_dict,\n",
    "random_state=42,\n",
    "n_jobs=-1\n",
    "))\n",
    "])\n",
    "\n"
   ]
  },
  {
   "cell_type": "code",
   "execution_count": 12,
   "id": "0cc0f626-2ca7-4e99-ad19-8f33a6298b12",
   "metadata": {
    "trusted": true
   },
   "outputs": [],
   "source": [
    "# Repeated stratified K-Fold cross-validation\n",
    "cv = RepeatedStratifiedKFold(n_splits=5, n_repeats=10, random_state=42)\n",
    "\n"
   ]
  },
  {
   "cell_type": "code",
   "execution_count": 13,
   "id": "eaa85863-3814-46e6-8d65-1f2ab23e8357",
   "metadata": {
    "trusted": true
   },
   "outputs": [
    {
     "name": "stdout",
     "output_type": "stream",
     "text": [
      "Cross-validated Accuracy: 0.9161 ± 0.0235\n"
     ]
    }
   ],
   "source": [
    "# Cross-validation on training data\n",
    "scores = cross_val_score(pipeline, X_train, y_train, cv=cv, scoring='accuracy', n_jobs=-1)\n",
    "print(f'Cross-validated Accuracy: {np.mean(scores):.4f} ± {np.std(scores):.4f}')\n",
    "\n"
   ]
  },
  {
   "cell_type": "code",
   "execution_count": 87,
   "id": "7a356a8d-8e5d-4566-a3ff-00b77cb4ac12",
   "metadata": {
    "trusted": true
   },
   "outputs": [
    {
     "name": "stdout",
     "output_type": "stream",
     "text": [
      "Classification Report on Test Set:\n",
      "              precision    recall  f1-score   support\n",
      "\n",
      "           2       0.83      0.50      0.62        20\n",
      "           4       0.89      0.98      0.93        81\n",
      "\n",
      "    accuracy                           0.88       101\n",
      "   macro avg       0.86      0.74      0.78       101\n",
      "weighted avg       0.88      0.88      0.87       101\n",
      "\n",
      "Confusion Matrix:\n",
      "[[10 10]\n",
      " [ 2 79]]\n"
     ]
    }
   ],
   "source": [
    "# Fit on full training set\n",
    "pipeline.fit(X_train, y_train)\n",
    "\n",
    "# Evaluate on held-out test set\n",
    "y_pred = pipeline.predict(X_test)\n",
    "print(\"Classification Report on Test Set:\")\n",
    "print(classification_report(y_test, y_pred))\n",
    "\n",
    "print(\"Confusion Matrix:\")\n",
    "print(confusion_matrix(y_test, y_pred))"
   ]
  }
 ],
 "metadata": {
  "kernelspec": {
   "display_name": "Python 3 (ipykernel)",
   "language": "python",
   "name": "python3"
  },
  "language_info": {
   "codemirror_mode": {
    "name": "ipython",
    "version": 3
   },
   "file_extension": ".py",
   "mimetype": "text/x-python",
   "name": "python",
   "nbconvert_exporter": "python",
   "pygments_lexer": "ipython3",
   "version": "3.11.11"
  }
 },
 "nbformat": 4,
 "nbformat_minor": 5
}
